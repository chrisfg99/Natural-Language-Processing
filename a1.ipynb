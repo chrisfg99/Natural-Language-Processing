{
 "cells": [
  {
   "cell_type": "markdown",
   "metadata": {},
   "source": [
    "# NLE Assessed Coursework 1\n",
    "\n",
    "For this assessment, you are expected to complete and submit this notebook file.  When answers require code, you may import and use library functions (unless explicitly told otherwise).  All of your own code should be included in the notebook rather than imported from elsewhere.  Written answers should also be included in the notebook.  You should insert as many extra cells as you want and change the type between code and markdown as appropriate.\n",
    "\n",
    "In order to avoid misconduct, you should not talk about these coursework questions with your peers.  If you are not sure what a question is asking you to do or have any other questions, please ask me or one of the Teaching Assistants.\n",
    "\n",
    "Marking guidelines are provided as a separate document.\n",
    "\n",
    "In order to provide unique datasets for analysis by different students, you must enter your candidate number in the following cell."
   ]
  },
  {
   "cell_type": "code",
   "execution_count": 1,
   "metadata": {},
   "outputs": [],
   "source": [
    "candidateno=184521 #this MUST be updated to your candidate number so that you get a unique data sample\n"
   ]
  },
  {
   "cell_type": "code",
   "execution_count": 2,
   "metadata": {},
   "outputs": [
    {
     "name": "stderr",
     "output_type": "stream",
     "text": [
      "[nltk_data] Downloading package stopwords to\n",
      "[nltk_data]     C:\\Users\\chris\\AppData\\Roaming\\nltk_data...\n",
      "[nltk_data]   Package stopwords is already up-to-date!\n",
      "[nltk_data] Downloading package punkt to\n",
      "[nltk_data]     C:\\Users\\chris\\AppData\\Roaming\\nltk_data...\n",
      "[nltk_data]   Package punkt is already up-to-date!\n"
     ]
    }
   ],
   "source": [
    "#preliminary imports\n",
    "import sys\n",
    "sys.path.append('resources')\n",
    "\n",
    "\n",
    "import re\n",
    "import pandas as pd\n",
    "import matplotlib.pyplot as plt\n",
    "%matplotlib inline\n",
    "from itertools import zip_longest\n",
    "from nltk.tokenize import word_tokenize\n",
    "\n",
    "from sussex_nltk.corpus_readers import AmazonReviewCorpusReader\n",
    "import nltk\n",
    "nltk.download('stopwords')\n",
    "nltk.download('punkt')\n",
    "import random\n",
    "from nltk.corpus import stopwords"
   ]
  },
  {
   "cell_type": "markdown",
   "metadata": {},
   "source": [
    "# Question 1: Naive Bayes Classification (25 marks)\n",
    "\n",
    "In this question, you will be considering how a Naive Bayes classifier can be applied to the task of deciding whether sentences are relevant or not relevant to the kitchen domain.\n",
    "\n",
    "The code below will generate for you two small unique sets of sentences, which you should refer to in your answer to this question.   This question will be marked on the quality of your explanations rather than the quality of your code."
   ]
  },
  {
   "cell_type": "code",
   "execution_count": 3,
   "metadata": {},
   "outputs": [
    {
     "name": "stdout",
     "output_type": "stream",
     "text": [
      "Number of training sentences is 56.  Number of testing sentences is 12\n"
     ]
    }
   ],
   "source": [
    "#Do NOT change the code in this cell.\n",
    "\n",
    "topics=[\"book\",\"kitchen\",\"dvd\",\"electronics\"]\n",
    "samplesize=20\n",
    "stop=stopwords.words('english')\n",
    "\n",
    "trainingsentences=[]\n",
    "testsentences=[]\n",
    "cr = AmazonReviewCorpusReader()\n",
    "\n",
    "for topic in topics:\n",
    "    random.seed(candidateno)\n",
    "    if topic == \"kitchen\":\n",
    "        key=\"kitchen\"\n",
    "    else:\n",
    "        key=\"not-kitchen\"\n",
    "    topicsentences=[]\n",
    "    while len(topicsentences)<10:\n",
    "        topicsentences=[({token.lower():True for token in doc if token not in stop and token.isalpha()},key) for doc in cr.category(topic).sample_sents(samplesize=samplesize) if len(doc)>0]\n",
    "    testsentences+=topicsentences[0:3]\n",
    "    trainingsentences+=topicsentences[3:]\n",
    "\n",
    "random.shuffle(trainingsentences)\n",
    "mixup=testsentences[:4]+testsentences[5:]\n",
    "random.shuffle(mixup)\n",
    "testsentences=[testsentences[4]]+mixup\n",
    "print(\"Number of training sentences is {}.  Number of testing sentences is {}\".format(len(trainingsentences),len(testsentences)))\n"
   ]
  },
  {
   "cell_type": "code",
   "execution_count": 4,
   "metadata": {},
   "outputs": [
    {
     "name": "stdout",
     "output_type": "stream",
     "text": [
      "[({'david': True, 'thomson': True, 'writing': True, 'chronological': True, 'account': True, 'hollywood': True, 'movies': True}, 'not-kitchen'), ({'the': True, 'head': True, 'band': True, 'fits': True, 'fixed': True, 'orientation': True}, 'not-kitchen'), ({'the': True, 'story': True, 'great': True, 'job': True, 'explaining': True, 'peter': True, 'became': True}, 'not-kitchen'), ({'it': True, 'brought': True, 'together': True, 'running': True, 'skit': True, 'specifically': True, 'created': True, 'video': True, 'featuring': True, 'cookie': True, 'monster': True, 'newly': True, 'employed': True, 'baker': True, 'expected': True, 'results': True}, 'not-kitchen'), ({'things': True, 'get': True, 'little': True, 'complicated': True, 'reveals': True, 'crush': True, 'milo': True, 'finally': True}, 'not-kitchen'), ({'being': True, 'disappointed': True, 'fit': True, 'koss': True, 'phones': True, 'i': True, 'bought': True, 'slightly': True, 'expensive': True, 'jvc': True}, 'not-kitchen'), ({'but': True, 'i': True, 'range': True, 'consumer': True, 'camera': True, 'card': True, 'fine': True, 'general': True, 'shooting': True}, 'not-kitchen'), ({'paul': True, 'mcleod': True, 'new': True, 'zealand': True}, 'not-kitchen'), ({'do': True, 'buy': True}, 'kitchen'), ({'he': True, 'immediately': True, 'develops': True, 'problematic': True, 'relationship': True, 'buddy': True, 'rydell': True, 'jack': True, 'nicholson': True, 'expert': True, 'leading': True, 'sessions': True}, 'not-kitchen'), ({'it': True, 'sluggish': True, 'across': True, 'screen': True, 'insensitive': True, 'even': True, 'maxing': True, 'mouse': True, 'settings': True, 'either': True, 'direction': True}, 'not-kitchen'), ({'you': True, 'take': True, 'everything': True, 'seriously': True, 'believe': True, 'emergency': True, 'room': True, 'function': True, 'like': True, 'er': True, 'still': True, 'people': True, 'standing': True, 'touch': True, 'reality': True, 'well': True}, 'not-kitchen'), ({'great': True, 'cameo': True, 'marilyn': True, 'manson': True, 'greaser': True, 'bar': True}, 'not-kitchen'), ({'the': True, 'videogames': True, 'great': True}, 'not-kitchen'), ({'plus': True, 'like': True, 'sw': True, 'pennsylvania': True}, 'not-kitchen'), ({'it': True, 'quiet': True, 'internal': True, 'drive': True}, 'not-kitchen'), ({'i': True, 'also': True, 'drawn': True, 'neatly': True, 'three': True, 'leaves': True, 'holder': True, 'fit': True, 'snugly': True, 'together': True, 'holding': True, 'cylinder': True, 'firmly': True, 'place': True, 'unlike': True, 'wire': True, 'metal': True, 'device': True, 'seemed': True, 'danger': True, 'falling': True, 'apart': True, 'slip': True, 'hand': True}, 'kitchen'), ({'other': True, 'machines': True, 'i': True, 'heard': True, 'worked': True, 'well': True, 'tended': True, 'rattle': True, 'windows': True, 'roaring': True, 'sound': True, 'required': True, 'hours': True, 'clean': True}, 'kitchen'), ({'you': True, 'switch': True, 'back': True, 'forth': True, 'left': True, 'hand': True, 'right': True, 'great': True, 'price': True}, 'not-kitchen'), ({'if': True, 'download': True, 'source': True, 'code': True, 'use': True, 'printed': True, 'one': True, 'somehow': True, 'limited': True, 'unless': True, 'want': True, 'make': True, 'notes': True, 'book': True, 'analysing': True, 'things': True, 'done': True}, 'not-kitchen'), ({'i': True, 'applied': True, 'methodology': True, 'business': True, 'direct': True, 'selling': True, 'interviews': True, 'completed': True, 'identify': True, 'promoters': True, 'passives': True, 'detractors': True, 'businesses': True, 'independent': True, 'distributors': True}, 'not-kitchen'), ({'unfortunately': True, 'dvd': True, 'contains': True, 'rather': True, 'compromised': True, 'print': True, 'extras': True, 'included': True}, 'not-kitchen'), ({'the': True, 'reception': True, 'seems': True, 'better': True}, 'not-kitchen'), ({}, 'kitchen'), ({'let': True, 'review': True, 'pathetic': True, 'pasta': True, 'maker': True, 'it': True, 'rusts': True, 'the': True, 'shining': True, 'chrome': True, 'comes': True}, 'kitchen'), ({'there': True, 'way': True, 'actually': True, 'speed': True, 'menu': True, 'advance': True, 'one': True, 'artist': True, 'time': True}, 'not-kitchen'), ({'just': True, 'know': True, 'technician': True, 'told': True, 'tv': True, 'defective': True}, 'not-kitchen'), ({'it': True, 'good': True, 'toning': True}, 'not-kitchen'), ({'why': True, 'major': True, 'discussion': True, 'mention': True, 'human': True, 'military': True, 'nazi': True, 'connection': True, 'abductions': True}, 'not-kitchen'), ({'yet': True, 'problems': True, 'acting': True, 'secondary': True, 'unfocused': True, 'screenplay': True}, 'not-kitchen'), ({'marvelous': True, 'story': True, 'historical': True, 'concepts': True, 'involment': True, 'leading': True, 'reader': True, 'intrigue': True, 'fascination': True}, 'not-kitchen'), ({'in': True, 'good': True, 'company': True, 'goes': True, 'end': True, 'little': True, 'bit': True, 'ending': True, 'especially': True, 'fulfilling': True}, 'not-kitchen'), ({'if': True, 'book': True, 'thinly': True, 'veiled': True, 'hollywood': True, 'screenplay': True, 'i': True, 'eat': True, 'proverbial': True, 'hat': True}, 'not-kitchen'), ({'but': True, 'overall': True, 'happy': True}, 'not-kitchen'), ({'having': True, 'said': True, 'film': True, 'well': True, 'acted': True, 'really': True, 'puts': True, 'netherlands': True, 'century': True}, 'not-kitchen'), ({'i': True, 'personally': True, 'saw': True, 'movie': True, 'years': True, 'ago': True, 'disney': True, 'channel': True}, 'not-kitchen'), ({'thank': True, 'you': True, 'larry': True, 'burkett': True, 'books': True, 'god': True, 'really': True, 'writting': True}, 'not-kitchen'), ({'book': True, 'pulls': True, 'punches': True, 'dealt': True, 'young': True, 'black': True, 'man': True, 'growing': True, 'household': True, 'large': True, 'family': True, 'also': True, 'dealing': True, 'getting': True, 'whippings': True, 'era': True, 'back': True, 'day': True, 'applied': True, 'sports': True, 'games': True, 'self': True, 'process': True}, 'not-kitchen'), ({'who': True, 'ask': True}, 'not-kitchen'), ({'however': True, 'design': True, 'glass': True, 'beautiful': True}, 'kitchen'), ({'other': True, 'proves': True, 'useful': True, 'large': True, 'portions': True}, 'kitchen'), ({'no': True, 'smoke': True, 'sparks': True, 'strange': True, 'ingredients': True}, 'kitchen'), ({'i': True, 'successfully': True, 'paired': True, 'device': True, 'motorola': True, 'razr': True, 'nokia': True, 'expected': True}, 'not-kitchen'), ({'the': True, 'quality': True, 'fantastic': True, 'relatives': True, 'awe': True}, 'not-kitchen'), ({'i': True, 'got': True, 'thing': True, 'synced': True, 'maps': True, 'loaded': True, 'using': True, 'several': True, 'months': True}, 'not-kitchen'), ({'mine': True, 'original': True, 'finish': True, 'proper': True, 'seasoning': True, 'cook': True, 'extremely': True, 'well': True}, 'kitchen'), ({'it': True, 'rare': True, 'writer': True, 'hack': True, 'jumble': True, 'rejection': True, 'slips': True, 'getting': True, 'published': True}, 'not-kitchen'), ({'update': True, 'since': True, 'i': True, 'found': True, 'refills': True, 'actual': True, 'wand': True, 'amazon': True, 'bought': True, 'and': True, 'suction': True, 'cup': True, 'mount': True, 'goes': True, 'dish': True}, 'kitchen'), ({'in': True, 'fact': True, 'better': True, 'surround': True, 'sound': True, 'i': True, 'using': True, 'stereo': True, 'speakers': True}, 'not-kitchen'), ({'this': True, 'spindle': True, 'purchased': True, 'amazon': True, 'i': True, 'know': True, 'rely': True, 'give': True, 'best': True, 'quality': True, 'value': True, 'plus': True, 'free': True, 'shipping': True}, 'not-kitchen'), ({'amanda': True, 'petersen': True, 'wonderful': True, 'cindy': True, 'feel': True, 'admiration': True, 'affection': True, 'ronnie': True, 'building': True, 'crushed': True, 'transformation': True, 'media': True, 'monster': True, 'believes': True, 'hype': True}, 'not-kitchen'), ({'i': True, 'purchase': True, 'plan': True, 'looked': True, 'contract': True, 'intensely': True, 'since': True, 'nearly': True, 'got': True}, 'not-kitchen'), ({'holmes': True, 'concludes': True, 'book': True, 'brief': True, 'description': True, 'presidents': True, 'religious': True, 'beliefs': True, 'bear': True, 'much': True, 'scrutiny': True, 'founding': True, 'fathers': True}, 'not-kitchen'), ({'unlike': True, 'reviewers': True, 'i': True, 'talking': True, 'tinge': True, 'ivory': True, 'package': True, 'said': True, 'instead': True, 'white': True}, 'kitchen'), ({'even': True, 'cleaning': True, 'area': True, 'rugs': True, 'normally': True, 'must': True, 'done': True, 'professionally': True, 'longer': True, 'problem': True}, 'kitchen'), ({'i': True, 'juice': True, 'without': True, 'worrying': True, 'cleaning': True, 'cutter': True, 'basket': True}, 'kitchen')]\n"
     ]
    }
   ],
   "source": [
    "print(trainingsentences)"
   ]
  },
  {
   "cell_type": "code",
   "execution_count": 5,
   "metadata": {},
   "outputs": [
    {
     "name": "stdout",
     "output_type": "stream",
     "text": [
      "[({'you': True, 'add': True, 'water': True, 'get': True, 'sight': True, 'gauge': True, 'cups': True}, 'kitchen'), ({'this': True, 'section': True, 'moved': True, 'bit': True, 'fast': True, 'liking': True, 'i': True, 'think': True, 'slightly': True, 'gentler': True, 'opening': True, 'would': True, 'appropriate': True}, 'not-kitchen'), ({'then': True, 'i': True, 'would': True, 'millionaire': True, 'thanking': True, 'mr': True, 'utterback': True, 'writing': True, 'review': True}, 'not-kitchen'), ({'even': True, 'older': True, 'films': True, 'de': True, 'sica': True, 'capture': True, 'images': True, 'unforgettable': True}, 'not-kitchen'), ({'i': True, 'could': True, 'read': True, 'novel': True}, 'not-kitchen'), ({'so': True, 'go': True, 'local': True, 'store': True, 'check': True, 'purchasing': True, 'online': True}, 'not-kitchen'), ({'i': True, 'use': True, 'vacu': True, 'vin': True, 'wine': True, 'chiller': True, 'size': True}, 'kitchen'), ({'for': True, 'some': True, 'reason': True, 'i': True, 'decided': True, 'to': True, 'try': True, 'it': True}, 'kitchen'), ({'premise': True, 'movie': True, 'seen': True, 'trailers': True, 'i': True, 'really': True, 'could': True, 'believe': True, 'trying': True, 'told': True, 'watching': True}, 'not-kitchen'), ({'i': True, 'still': True, 'amazed': True, 'hung': True, 'finished': True, 'reading': True}, 'not-kitchen'), ({'however': True, 'way': True, 'big': True, 'enough': True, 'deal': True, 'lower': True, 'rating': True, 'sweet': True, 'keyboard': True}, 'not-kitchen'), ({'when': True, 'phone': True, 'another': True, 'call': True, 'comes': True, 'display': True}, 'not-kitchen')]\n"
     ]
    }
   ],
   "source": [
    "print(testsentences)"
   ]
  },
  {
   "cell_type": "markdown",
   "metadata": {},
   "source": [
    "a) With reference to the sentences generated above, **explain** how a Naive Bayes classifer would be trained to carry out the task of deciding whether sentences are relevant to the kitchen domain.  You do **not** need to build or train a classifier.  However, you should explain the relevant probabilities with reference to examples taken from your samples of sentences.  \\[10 marks\\]"
   ]
  },
  {
   "cell_type": "markdown",
   "metadata": {},
   "source": [
    "After building your classifier it needs to be given a set of documents to train itself in order to classify any given documents correctly. For example, a Classifier may be given my set of 56 training sentences, as shown above, which would then be run through the following sequence with the label kitchen:\n",
    "\n",
    "                Labelled data =[((features),label)] ---> Classifier Encoder ---> model=[parameters]\n",
    "                \n",
    "This would result in a model with set parameters that would then be used in the classifier decoder to find if documents are related to kitchens. This is how the process works on a basic level, hoever the encoders workings when it comes to a Naive Bayes Classifier, NBC, is a lot more complicated then the sequence would make you assume.\n",
    "\n",
    "In a NBC, the encoder takes the given training sentences, aswell as the label, and creates a frequency table which denotes how often a word will appear in the given documents. Using these frequencies a liklihood table can be constructed to see how often two words, appear togther and can the  work out then proabibilty that they're related. If there is a high probabibility when one appears so does the other, then when the classifier finds one word without the other it can state it maybe of the others class. For example, 'ingredients' and 'kitchen' have a strong likliehood of appearing together along with 'smoke and 'sparks', therefore when the sentence :({'no': True, 'smoke': True, 'sparks': True, 'strange': True, 'ingredients': True}, 'kitchen') is given it is regarded as 'kitchen'. However sentences such as: ({'david': True, 'thomson': True, 'writing': True, 'chronological': True, 'account': True, 'hollywood': True, 'movies': True}, 'not-kitchen') are classified as non-kitchen as none of the words in the sentence have a stong probability of bieng of classs 'kitchen'.\n",
    "\n",
    "For example, with the given sentences, the model is being trained to find if a sentence has something to do with kitchens, to do this it will scan the training documents for the word 'kitchen', which is given as the label. For documents that include 'kitchen' it will then see how often other words appear with the label, for example 'ingredients'. If in 45/56 documents 'kitchen' appears and in 95% of those documents 'ingredients' appears, then there is a high probability that 'ingredients' has something to do with 'kitchen'. This is also reinforced if when documents don't contain 'kitchen' the probability of them including 'ingredients' is also unlikely meaning the chances of 'ingredients' and 'kitchen' being rlated is higher. This would lead to sentences with 'ingredients' in it being classified as 'kitchen' but words like 'era' being classified as 'not-kitchen'. \n",
    "\n",
    "If this is the case then the model has been successfully trained."
   ]
  },
  {
   "cell_type": "markdown",
   "metadata": {},
   "source": [
    "b) With reference to the sentences generated above, **explain** how a trained Naive Bayes classifier would assign a class to a sentence. \\[5 marks\\]"
   ]
  },
  {
   "cell_type": "markdown",
   "metadata": {},
   "source": [
    "                Labelled data =[(features)] ---> Classifier Decoder ---> Labelled data =[((features),label)] \n",
    "                \n",
    "When the 16 test sentences are given to the decoder classifier it uses the trained model that was created from the classifier encoder when training the classifier to classify the sentences into the classes 'kitchen' or 'not-kitchen'. The decoder shall then read the sentences for any words that are included in the likliness table and gather them as a set for each sentence. For each word in the sentence set the conditional probability is calculated, this being the frequency that a word appears and the probabibilty that it relates to the given class e.g. 'kitchen'. This can then be used to calculate probability that the sentence is part of the 'kitchen' class. For example,using the folloeing test setence i cna demonstarte how the classifier would work: ({'you': True, 'add': True, 'water': True, 'get': True, 'sight': True, 'gauge': True, 'cups': True}, 'kitchen'). This sentence has seven key words in totala and out of these seven three, water, cups and gauge, have a high chance of being of class kitchen and one, add, has a medium chance of being related to kitchen. For the example high means 75%+ and medium mean 50%-74% probability of being related to the 'kitchen' class. If this is the case it leaves 3 with a low probability of being related to kitchen. Using this we can give this sentence a probability of between 51%-74% being related to 'kitchen', meaning it is more likely to be related to kitchen then not be and therefore given the class. If this was below 50% then it would be given a class of 'not kitchen' such as can be seen in: ({'when': True, 'phone': True, 'another': True, 'call': True, 'comes': True, 'display': True}, 'not-kitchen')."
   ]
  },
  {
   "cell_type": "markdown",
   "metadata": {},
   "source": [
    "c) The labels assigned by a Naive Bayes classifier to the sentences contained in the variable `testsentences` above are \\['kitchen','not-kitchen','not-kitchen','not-kitchen','kitchen','not-kitchen','kitchen','not-kitchen','not-kitchen','not-kitchen','kitchen','not-kitchen'\\].  Using this example to illustrate your answer, **explain** how each of the performance metrics of *accuracy*, *precision*, *recall* and *F1-score* are calculated.  Which of these metrics would you use to choose between classification models in this example?  **Justify your answer**. \\[10 marks\\]\n"
   ]
  },
  {
   "cell_type": "markdown",
   "metadata": {},
   "source": [
    "Using the given 'testsentences', testSentenceClassified (TSC), it is positive to calculate the TP, TN, FP and FN, True Positive, True Negative, False Positive and False Negative, of the predicted data. The classifier classifies 4 kitchens when there should only be 3 kitchens as shown by the original 'testsentences'(TS), because of this it gives a TP of 7 and a FP of 1. Due to this there are 8 'non-kitchen' classes in TSC when there should be 9 as seen in TS. This gives a TN of 17 and FN of 1, these can now be used to calculate the accuracy, precision, recall and F1-Score.\n",
    "\n",
    "To calculate accuracy we use the formula; TP+TN/N, using this would we would end up with 7+17/26 resulting in an accuracy of 0.92 for our classfier and using the formula TP/TP+FN to calculate the recall we use giving us a recall of 0.875 for our classifier. To calculate precision we would use the formula; TP/TP+FP resulting in a precision of 0.875. To calculate the F1-Score we need to use both the Recall and Precision from above in the following formula; 2PR/P+R with P= precision and R=Recall giving us 2*(0.875*0.875)/0.875*0.875, this would result in a F1 score of 2 for the Classifier.\n",
    "\n",
    "Out of all of these F1-Score is the most useful as it combines recall and precision which are the two most useful and are equally as important and reliable. This can be shown as accuracy was shown to be 92% accurate as there was only 2 sentences which were classified wrongly. However this could be misleading as shown by the precision and recall, which are both 87.5% which is less than the accuracy as they compare the true positives to the incorrect negatives and positives seperately rather than just the classes that are correct over the total number of classes given,N. In this case the classifier is still very successful, as both Recall and Precison are high which is a sign of a good classifier, however it is possible to have a high accuracy but have a low Recall or Precision. For example, if we had a larger data set of 100 with TP=3, FN=7, FP=3 and TN=87 then accuracy would be at 90% but the recall and precision would be low at 30% and 50%. This proves how misleading this information could be.\n",
    "\n",
    "When combined, Recall and Precision create a score of 2 overall, which can be compared with other scores of other classifiers to accurately show how successful a classifier is in a single value. This single value is a combination of the 2 most trusted values therefore making this the best value to use.\n",
    "\n"
   ]
  },
  {
   "cell_type": "markdown",
   "metadata": {},
   "source": [
    "## Question 2: Training Data for Sentiment Analysis (25 marks)\n",
    "The objective of this question is to investigate the extent to which performance of a Naive Bayes classifier is affected by the quantity and quality of the training data.  Does more training data mean better performance?  Is performance degraded if we train on one domain and test on another domain?  For example, suppose we train a sentiment classifier on book reviews and then test that classifier on a collection of dvd reviews. Does it perform as well as it would when trained on dvd reviews?\n",
    "\n",
    "The code below is included to enable you to get pre-formatted training and test data for a given category (evenly split between positive and negative reviews).  In this question, there are marks available for the quality of your programming, your experimental design and your interpretation of results.\n"
   ]
  },
  {
   "cell_type": "code",
   "execution_count": 6,
   "metadata": {},
   "outputs": [],
   "source": [
    "def split_data(data, ratio=0.7): # when the second argument is not given, it defaults to 0.7\n",
    "    \"\"\"\n",
    "    Given corpus generator and ratio:\n",
    "     - partitions the corpus into training data and test data, where the proportion in train is ratio,\n",
    "\n",
    "    :param data: A corpus generator.\n",
    "    :param ratio: The proportion of training documents (default 0.7)\n",
    "    :return: a pair (tuple) of lists where the first element of the \n",
    "            pair is a list of the training data and the second is a list of the test data.\n",
    "    \"\"\"\n",
    "    \n",
    "    data = list(data)  \n",
    "    n = len(data)  \n",
    "    train_indices = random.sample(range(n), int(n * ratio))          \n",
    "    test_indices = list(set(range(n)) - set(train_indices))    \n",
    "    train = [data[i] for i in train_indices]           \n",
    "    test = [data[i] for i in test_indices]             \n",
    "    return (train, test)                       \n",
    " \n",
    "\n",
    "def feature_extract(review):\n",
    "    \"\"\"\n",
    "    Generate a feature representation for a review\n",
    "    :param review: AmazonReview object\n",
    "    :return: dictionary of Boolean features\n",
    "    \"\"\"\n",
    "    return {word:True for word in review.words()}\n",
    "\n",
    "def get_training_test_data(category,ratio=0.7,seed=candidateno):\n",
    "    \"\"\"\n",
    "    Get training and test data for a given category and ratio, pre-formatted for use with NB classifier\n",
    "    :param category: category of review corpus, one of [\"kitchen, \"dvd, \"book\", \"electronics\"]\n",
    "    :param ratio: proportion of data to use as training data\n",
    "    :return: pair of lists \n",
    "    \"\"\"\n",
    "    reader=AmazonReviewCorpusReader().category(category)\n",
    "    random.seed(candidateno)\n",
    "    pos_train, pos_test = split_data(reader.positive().documents(),ratio=ratio)\n",
    "    neg_train, neg_test = split_data(reader.negative().documents(),ratio=ratio)\n",
    "    train_data=[(feature_extract(review),'P')for review in pos_train]+[(feature_extract(review),'N') for review in neg_train]\n",
    "    test_data=[(feature_extract(review),'P')for review in pos_test]+[(feature_extract(review),'N') for review in neg_test]\n",
    "    return train_data,test_data\n"
   ]
  },
  {
   "cell_type": "code",
   "execution_count": 7,
   "metadata": {},
   "outputs": [],
   "source": [
    "#get test traing data and split into ratio lists\n",
    "Ratio30=[]\n",
    "Ratio60=[]\n",
    "Ratio90=[]\n",
    "\n",
    "Ratio30.append(get_training_test_data('dvd',0.3,184521))\n",
    "Ratio60.append(get_training_test_data('dvd',0.6,184521))\n",
    "Ratio90.append(get_training_test_data('dvd',0.9,184521))\n",
    "\n",
    "Ratio30.append(get_training_test_data('book',0.3,184521))\n",
    "Ratio60.append(get_training_test_data('book',0.6,184521))\n",
    "Ratio90.append(get_training_test_data('book',0.9,184521))\n",
    "\n",
    "Ratio30.append(get_training_test_data('kitchen',0.3,184521))\n",
    "Ratio60.append(get_training_test_data('kitchen',0.6,184521))\n",
    "Ratio90.append(get_training_test_data('kitchen',0.9,184521))\n",
    "\n",
    "Ratio30.append(get_training_test_data('electronics',0.3,184521))\n",
    "Ratio60.append(get_training_test_data('electronics',0.6,184521))\n",
    "Ratio90.append(get_training_test_data('electronics',0.9,184521))"
   ]
  },
  {
   "cell_type": "markdown",
   "metadata": {},
   "source": [
    "a) By varying the amount of training data used, **investigate** the impact of the amount of training data used on the accuracy of a Naive Bayes classifier for each of the four domains: *dvd*, *book*, *kitchen* and *electronics*.  You should use the NaiveBayesClassifier from the `nltk.classify` library.  You should also use a table and an appropriate graph(s) to display your results.  Make sure you **discuss** your results and conclusions. \\[8 marks\\]"
   ]
  },
  {
   "cell_type": "code",
   "execution_count": 8,
   "metadata": {},
   "outputs": [
    {
     "data": {
      "text/html": [
       "<div>\n",
       "<style scoped>\n",
       "    .dataframe tbody tr th:only-of-type {\n",
       "        vertical-align: middle;\n",
       "    }\n",
       "\n",
       "    .dataframe tbody tr th {\n",
       "        vertical-align: top;\n",
       "    }\n",
       "\n",
       "    .dataframe thead th {\n",
       "        text-align: right;\n",
       "    }\n",
       "</style>\n",
       "<table border=\"1\" class=\"dataframe\">\n",
       "  <thead>\n",
       "    <tr style=\"text-align: right;\">\n",
       "      <th></th>\n",
       "      <th>DVD</th>\n",
       "      <th>Book</th>\n",
       "      <th>Kitchen</th>\n",
       "      <th>Electronics</th>\n",
       "    </tr>\n",
       "  </thead>\n",
       "  <tbody>\n",
       "    <tr>\n",
       "      <th>30</th>\n",
       "      <td>76.928571</td>\n",
       "      <td>73.928571</td>\n",
       "      <td>79.785714</td>\n",
       "      <td>72.500</td>\n",
       "    </tr>\n",
       "    <tr>\n",
       "      <th>60</th>\n",
       "      <td>80.625000</td>\n",
       "      <td>73.000000</td>\n",
       "      <td>81.875000</td>\n",
       "      <td>79.625</td>\n",
       "    </tr>\n",
       "    <tr>\n",
       "      <th>90</th>\n",
       "      <td>80.000000</td>\n",
       "      <td>75.500000</td>\n",
       "      <td>80.000000</td>\n",
       "      <td>74.000</td>\n",
       "    </tr>\n",
       "  </tbody>\n",
       "</table>\n",
       "</div>"
      ],
      "text/plain": [
       "          DVD       Book    Kitchen  Electronics\n",
       "30  76.928571  73.928571  79.785714       72.500\n",
       "60  80.625000  73.000000  81.875000       79.625\n",
       "90  80.000000  75.500000  80.000000       74.000"
      ]
     },
     "metadata": {},
     "output_type": "display_data"
    },
    {
     "data": {
      "image/png": "[encoded data removed]",
      "text/plain": [
       "<Figure size 432x288 with 1 Axes>"
      ]
     },
     "metadata": {
      "needs_background": "light"
     },
     "output_type": "display_data"
    }
   ],
   "source": [
    "#classOrder=[dvd,book,kitchen,electronics]\n",
    "\n",
    "#create acc function\n",
    "def acc(testData,classf):\n",
    "    i=0\n",
    "    correctP=0\n",
    "    for x in testData[1]:\n",
    "        p=classf.classify(x[0])\n",
    "        if p == x[1]:\n",
    "            correctP=correctP+1\n",
    "        i=i+1\n",
    "    accuracy =(correctP/i)*100\n",
    "    return accuracy\n",
    "\n",
    "classf30=[]\n",
    "classf60=[]\n",
    "classf90=[]\n",
    "\n",
    "#train classifiers\n",
    "for x in range(4):\n",
    "    classf30.append(nltk.NaiveBayesClassifier.train(Ratio30[x][0]))\n",
    "for x in range(4):\n",
    "    classf60.append(nltk.NaiveBayesClassifier.train(Ratio60[x][0]))\n",
    "for x in range(4):\n",
    "    classf90.append(nltk.NaiveBayesClassifier.train(Ratio90[x][0]))\n",
    "\n",
    "#calculate accuracy for each data set\n",
    "acc30=[]\n",
    "acc60=[]\n",
    "acc90=[]\n",
    "\n",
    "for x in range(4):\n",
    "    acc30.append(acc(Ratio30[x],classf30[x]))\n",
    "    acc60.append(acc(Ratio60[x],classf60[x]))\n",
    "    acc90.append(acc(Ratio90[x],classf90[x]))\n",
    "\n",
    "#display graph\n",
    "import pandas as pd\n",
    "data={'DVD':[acc30[0],acc60[0],acc90[0]],'Book':[acc30[1],acc60[1],acc90[1]],'Kitchen':[acc30[2],acc60[2],acc90[2]],'Electronics':[acc30[3],acc60[3],acc90[3]]}\n",
    "df=pd.DataFrame(data,columns = [\"DVD\",\"Book\",\"Kitchen\",\"Electronics\"], index=[30,60,90])\n",
    "ax=df.plot.bar(rot=1,xticks=(30,60,90))\n",
    "ax.set_xlabel(\"Ratio\")\n",
    "ax.set_ylabel(\"Accuracy(%)\")\n",
    "display(df)"
   ]
  },
  {
   "cell_type": "markdown",
   "metadata": {},
   "source": [
    "The data suggests a trend of, the higher the ratio the higher the accuracy in most cases with a few exceptions such as 0.6 electronics and kitchen."
   ]
  },
  {
   "cell_type": "markdown",
   "metadata": {},
   "source": [
    "b) For each possible combination of source and target domain, **evaluate** the accuracy of a Naive Bayes classifier trained on the source domain and tested on the target domain.  There are four domains so there are 16 possible combinations you should consider.  You should use a table and an appropriate graph(s) to display your results.  Make sure you **discuss** your results and conclusions. \\[8 marks\\]"
   ]
  },
  {
   "cell_type": "code",
   "execution_count": 9,
   "metadata": {},
   "outputs": [
    {
     "data": {
      "text/html": [
       "<div>\n",
       "<style scoped>\n",
       "    .dataframe tbody tr th:only-of-type {\n",
       "        vertical-align: middle;\n",
       "    }\n",
       "\n",
       "    .dataframe tbody tr th {\n",
       "        vertical-align: top;\n",
       "    }\n",
       "\n",
       "    .dataframe thead th {\n",
       "        text-align: right;\n",
       "    }\n",
       "</style>\n",
       "<table border=\"1\" class=\"dataframe\">\n",
       "  <thead>\n",
       "    <tr style=\"text-align: right;\">\n",
       "      <th></th>\n",
       "      <th>DVD</th>\n",
       "      <th>Books</th>\n",
       "      <th>Kitchen</th>\n",
       "      <th>Electronics</th>\n",
       "    </tr>\n",
       "  </thead>\n",
       "  <tbody>\n",
       "    <tr>\n",
       "      <th>Books</th>\n",
       "      <td>68.625</td>\n",
       "      <td>73.000</td>\n",
       "      <td>65.875</td>\n",
       "      <td>64.500</td>\n",
       "    </tr>\n",
       "    <tr>\n",
       "      <th>DVD</th>\n",
       "      <td>80.625</td>\n",
       "      <td>69.250</td>\n",
       "      <td>70.875</td>\n",
       "      <td>65.625</td>\n",
       "    </tr>\n",
       "    <tr>\n",
       "      <th>Electronics</th>\n",
       "      <td>66.875</td>\n",
       "      <td>58.375</td>\n",
       "      <td>76.125</td>\n",
       "      <td>79.625</td>\n",
       "    </tr>\n",
       "    <tr>\n",
       "      <th>Kitchen</th>\n",
       "      <td>65.500</td>\n",
       "      <td>59.625</td>\n",
       "      <td>81.875</td>\n",
       "      <td>76.625</td>\n",
       "    </tr>\n",
       "  </tbody>\n",
       "</table>\n",
       "</div>"
      ],
      "text/plain": [
       "                DVD   Books  Kitchen  Electronics\n",
       "Books        68.625  73.000   65.875       64.500\n",
       "DVD          80.625  69.250   70.875       65.625\n",
       "Electronics  66.875  58.375   76.125       79.625\n",
       "Kitchen      65.500  59.625   81.875       76.625"
      ]
     },
     "metadata": {},
     "output_type": "display_data"
    },
    {
     "data": {
      "image/png": "[encoded data removed]",
      "text/plain": [
       "<Figure size 432x288 with 1 Axes>"
      ]
     },
     "metadata": {
      "needs_background": "light"
     },
     "output_type": "display_data"
    }
   ],
   "source": [
    "#classifiers for each class\n",
    "classfOrder=[\"DVD\",\"Books\",\"Kitchen\",\"Electronics\"]\n",
    "classf={}\n",
    "i=0\n",
    "\n",
    "for y in classfOrder:\n",
    "    classf[y]=(nltk.NaiveBayesClassifier.train(Ratio60[i][0]))\n",
    "    i=i+1\n",
    "    \n",
    "#run through each of the possibilities\n",
    "data={}\n",
    "for i in classfOrder:\n",
    "    temp={}\n",
    "    for x in range(4):\n",
    "        temp[classfOrder[x]]=acc(Ratio60[x],classf[i])\n",
    "    data[i]=temp\n",
    "#create table\n",
    "df=pd.DataFrame(data,columns=(\"DVD\",\"Books\",\"Kitchen\",\"Electronics\"))\n",
    "ax=df.plot.bar(rot=0)\n",
    "ax.set_xlabel(\"Ratio\")\n",
    "ax.set_ylabel(\"Accuracy(%)\")\n",
    "display(df)"
   ]
  },
  {
   "cell_type": "markdown",
   "metadata": {},
   "source": [
    "From my analysis of the data I can say that the highest accuracies of the classifiers are always on the data that they were trained for, for example a DVD classifier on DVD data has an accuracy of 80.625% but when the classifier is used on other data the accuracy drops to the mid 60's. This trend is similar through out the rest of the data but this is to be expected. The books classifier seemed to have the lowest accuarcy overall but this maybe due to the books test data being smaller in size then the rest or the test data wasn't very varied. This classifier also shows the lowest accuracy of 58.375% when used on electronics which matches the trend from the previous question where the accuracy always seemed lower then the competition always staying the 70-79% range when others where 80%+."
   ]
  },
  {
   "cell_type": "markdown",
   "metadata": {},
   "source": [
    "c) Adapt your code so that you can build and use a training set built from multiple categories.  Now **investigate** how having a mixture of source domains affects the accuracy of the Naive Bayes classifier on the target domain.  Make sure you control for or consider how much any improvements are due to the quantity of the training data. \\[9 marks\\]"
   ]
  },
  {
   "cell_type": "code",
   "execution_count": 10,
   "metadata": {},
   "outputs": [
    {
     "data": {
      "text/html": [
       "<div>\n",
       "<style scoped>\n",
       "    .dataframe tbody tr th:only-of-type {\n",
       "        vertical-align: middle;\n",
       "    }\n",
       "\n",
       "    .dataframe tbody tr th {\n",
       "        vertical-align: top;\n",
       "    }\n",
       "\n",
       "    .dataframe thead th {\n",
       "        text-align: right;\n",
       "    }\n",
       "</style>\n",
       "<table border=\"1\" class=\"dataframe\">\n",
       "  <thead>\n",
       "    <tr style=\"text-align: right;\">\n",
       "      <th></th>\n",
       "      <th>DVD</th>\n",
       "      <th>Book</th>\n",
       "      <th>Kitchen</th>\n",
       "      <th>Electronics</th>\n",
       "    </tr>\n",
       "  </thead>\n",
       "  <tbody>\n",
       "    <tr>\n",
       "      <th>60</th>\n",
       "      <td>81.125</td>\n",
       "      <td>77.875</td>\n",
       "      <td>81.25</td>\n",
       "      <td>78.625</td>\n",
       "    </tr>\n",
       "  </tbody>\n",
       "</table>\n",
       "</div>"
      ],
      "text/plain": [
       "       DVD    Book  Kitchen  Electronics\n",
       "60  81.125  77.875    81.25       78.625"
      ]
     },
     "metadata": {},
     "output_type": "display_data"
    },
    {
     "data": {
      "image/png": "[encoded data removed]",
      "text/plain": [
       "<Figure size 432x288 with 1 Axes>"
      ]
     },
     "metadata": {
      "needs_background": "light"
     },
     "output_type": "display_data"
    }
   ],
   "source": [
    "import itertools\n",
    "import functools\n",
    "from functools import reduce\n",
    "\n",
    "#gather all data into one variable\n",
    "data=reduce(lambda x,y:x+y[0],Ratio60,[])\n",
    "\n",
    "#train classifier with all data\n",
    "classf=(nltk.NaiveBayesClassifier.train(data))\n",
    "\n",
    "#accuracy test\n",
    "accuracyList=[]\n",
    "for x in range(4):\n",
    "    accuracyList.append(acc(Ratio60[x],classf))\n",
    "    \n",
    "#display graph\n",
    "import pandas as pd\n",
    "data={'DVD':[accuracyList[0]],'Book':[accuracyList[1]],'Kitchen':[accuracyList[2]],'Electronics':[accuracyList[3]]}\n",
    "df=pd.DataFrame(data,columns = [\"DVD\",\"Book\",\"Kitchen\",\"Electronics\"], index=[60])\n",
    "ax=df.plot.bar(rot=1)\n",
    "ax.set_xlabel(\"Ratio\")\n",
    "ax.set_ylabel(\"Accuracy(%)\")\n",
    "display(df)"
   ]
  },
  {
   "cell_type": "raw",
   "metadata": {},
   "source": [
    "From the data it seems like training a classifier with multiple classes increases the overall accuracy of the classifier. This can be seen when you compare the current data with the data from question 2 part a."
   ]
  },
  {
   "cell_type": "markdown",
   "metadata": {},
   "source": [
    "Use the code below to verify that the length of your submission does not exceed 2000 words."
   ]
  },
  {
   "cell_type": "code",
   "execution_count": 12,
   "metadata": {},
   "outputs": [
    {
     "name": "stdout",
     "output_type": "stream",
     "text": [
      "Submission length is 1391\n"
     ]
    }
   ],
   "source": [
    "##This code will word count all of the markdown cells in the notebook saved at filepath\n",
    "##Running it before providing any answers shows that the questions have a word count of 1202\n",
    "\n",
    "import io\n",
    "from nbformat import current\n",
    "\n",
    "filepath=\"a1.ipynb\"\n",
    "question_count=748\n",
    "\n",
    "with io.open(filepath, 'r', encoding='utf-8') as f:\n",
    "    nb = current.read(f, 'json')\n",
    "\n",
    "word_count = 0\n",
    "for cell in nb.worksheets[0].cells:\n",
    "    if cell.cell_type == \"markdown\":\n",
    "        word_count += len(cell['source'].replace('#', '').lstrip().split(' '))\n",
    "print(\"Submission length is {}\".format(word_count-question_count))"
   ]
  },
  {
   "cell_type": "code",
   "execution_count": null,
   "metadata": {},
   "outputs": [],
   "source": []
  },
  {
   "cell_type": "code",
   "execution_count": null,
   "metadata": {},
   "outputs": [],
   "source": []
  }
 ],
 "metadata": {
  "kernelspec": {
   "display_name": "Python 3",
   "language": "python",
   "name": "python3"
  },
  "language_info": {
   "codemirror_mode": {
    "name": "ipython",
    "version": 3
   },
   "file_extension": ".py",
   "mimetype": "text/x-python",
   "name": "python",
   "nbconvert_exporter": "python",
   "pygments_lexer": "ipython3",
   "version": "3.7.3"
  }
 },
 "nbformat": 4,
 "nbformat_minor": 2
}
